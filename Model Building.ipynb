{
 "cells": [
  {
   "cell_type": "code",
   "execution_count": 1,
   "id": "19458e38",
   "metadata": {},
   "outputs": [],
   "source": [
    "import pandas as pd"
   ]
  },
  {
   "cell_type": "code",
   "execution_count": 2,
   "id": "6d6d8c6d",
   "metadata": {},
   "outputs": [],
   "source": [
    "df1 = pd.read_csv(\"analyzed_file.csv\")\n",
    "df1 = df1.sample(60000)"
   ]
  },
  {
   "cell_type": "code",
   "execution_count": 3,
   "id": "964c87be",
   "metadata": {
    "scrolled": true
   },
   "outputs": [
    {
     "data": {
      "text/html": [
       "<div>\n",
       "<style scoped>\n",
       "    .dataframe tbody tr th:only-of-type {\n",
       "        vertical-align: middle;\n",
       "    }\n",
       "\n",
       "    .dataframe tbody tr th {\n",
       "        vertical-align: top;\n",
       "    }\n",
       "\n",
       "    .dataframe thead th {\n",
       "        text-align: right;\n",
       "    }\n",
       "</style>\n",
       "<table border=\"1\" class=\"dataframe\">\n",
       "  <thead>\n",
       "    <tr style=\"text-align: right;\">\n",
       "      <th></th>\n",
       "      <th>SK_ID_CURR</th>\n",
       "      <th>TARGET</th>\n",
       "      <th>NAME_CONTRACT_TYPE</th>\n",
       "      <th>CODE_GENDER</th>\n",
       "      <th>FLAG_OWN_CAR</th>\n",
       "      <th>FLAG_OWN_REALTY</th>\n",
       "      <th>CNT_CHILDREN</th>\n",
       "      <th>AMT_INCOME_TOTAL</th>\n",
       "      <th>AMT_CREDIT</th>\n",
       "      <th>AMT_ANNUITY</th>\n",
       "      <th>...</th>\n",
       "      <th>REG_REGION_NOT_LIVE_REGION</th>\n",
       "      <th>REG_REGION_NOT_WORK_REGION</th>\n",
       "      <th>LIVE_REGION_NOT_WORK_REGION</th>\n",
       "      <th>REG_CITY_NOT_LIVE_CITY</th>\n",
       "      <th>REG_CITY_NOT_WORK_CITY</th>\n",
       "      <th>LIVE_CITY_NOT_WORK_CITY</th>\n",
       "      <th>ORGANIZATION_TYPE</th>\n",
       "      <th>Age</th>\n",
       "      <th>AgeGroup</th>\n",
       "      <th>IncomeRange</th>\n",
       "    </tr>\n",
       "  </thead>\n",
       "  <tbody>\n",
       "    <tr>\n",
       "      <th>199159</th>\n",
       "      <td>330893</td>\n",
       "      <td>0</td>\n",
       "      <td>1</td>\n",
       "      <td>0</td>\n",
       "      <td>1</td>\n",
       "      <td>1</td>\n",
       "      <td>1</td>\n",
       "      <td>67500.0</td>\n",
       "      <td>202500.0</td>\n",
       "      <td>10125.0</td>\n",
       "      <td>...</td>\n",
       "      <td>0</td>\n",
       "      <td>0</td>\n",
       "      <td>0</td>\n",
       "      <td>1</td>\n",
       "      <td>1</td>\n",
       "      <td>1</td>\n",
       "      <td>30</td>\n",
       "      <td>29.0</td>\n",
       "      <td>0</td>\n",
       "      <td>2</td>\n",
       "    </tr>\n",
       "    <tr>\n",
       "      <th>136140</th>\n",
       "      <td>257913</td>\n",
       "      <td>0</td>\n",
       "      <td>0</td>\n",
       "      <td>1</td>\n",
       "      <td>0</td>\n",
       "      <td>1</td>\n",
       "      <td>1</td>\n",
       "      <td>108000.0</td>\n",
       "      <td>569673.0</td>\n",
       "      <td>27837.0</td>\n",
       "      <td>...</td>\n",
       "      <td>0</td>\n",
       "      <td>0</td>\n",
       "      <td>0</td>\n",
       "      <td>0</td>\n",
       "      <td>0</td>\n",
       "      <td>0</td>\n",
       "      <td>13</td>\n",
       "      <td>49.0</td>\n",
       "      <td>2</td>\n",
       "      <td>2</td>\n",
       "    </tr>\n",
       "    <tr>\n",
       "      <th>108862</th>\n",
       "      <td>226261</td>\n",
       "      <td>0</td>\n",
       "      <td>0</td>\n",
       "      <td>1</td>\n",
       "      <td>1</td>\n",
       "      <td>0</td>\n",
       "      <td>0</td>\n",
       "      <td>180000.0</td>\n",
       "      <td>545040.0</td>\n",
       "      <td>25407.0</td>\n",
       "      <td>...</td>\n",
       "      <td>0</td>\n",
       "      <td>0</td>\n",
       "      <td>0</td>\n",
       "      <td>0</td>\n",
       "      <td>0</td>\n",
       "      <td>0</td>\n",
       "      <td>5</td>\n",
       "      <td>25.0</td>\n",
       "      <td>0</td>\n",
       "      <td>1</td>\n",
       "    </tr>\n",
       "    <tr>\n",
       "      <th>297109</th>\n",
       "      <td>444215</td>\n",
       "      <td>0</td>\n",
       "      <td>0</td>\n",
       "      <td>0</td>\n",
       "      <td>1</td>\n",
       "      <td>1</td>\n",
       "      <td>0</td>\n",
       "      <td>67500.0</td>\n",
       "      <td>226422.0</td>\n",
       "      <td>11691.0</td>\n",
       "      <td>...</td>\n",
       "      <td>0</td>\n",
       "      <td>0</td>\n",
       "      <td>0</td>\n",
       "      <td>0</td>\n",
       "      <td>0</td>\n",
       "      <td>0</td>\n",
       "      <td>5</td>\n",
       "      <td>43.0</td>\n",
       "      <td>2</td>\n",
       "      <td>2</td>\n",
       "    </tr>\n",
       "    <tr>\n",
       "      <th>228132</th>\n",
       "      <td>364242</td>\n",
       "      <td>0</td>\n",
       "      <td>0</td>\n",
       "      <td>0</td>\n",
       "      <td>0</td>\n",
       "      <td>1</td>\n",
       "      <td>0</td>\n",
       "      <td>90000.0</td>\n",
       "      <td>239850.0</td>\n",
       "      <td>23494.5</td>\n",
       "      <td>...</td>\n",
       "      <td>0</td>\n",
       "      <td>0</td>\n",
       "      <td>0</td>\n",
       "      <td>0</td>\n",
       "      <td>0</td>\n",
       "      <td>0</td>\n",
       "      <td>33</td>\n",
       "      <td>53.0</td>\n",
       "      <td>3</td>\n",
       "      <td>2</td>\n",
       "    </tr>\n",
       "  </tbody>\n",
       "</table>\n",
       "<p>5 rows × 36 columns</p>\n",
       "</div>"
      ],
      "text/plain": [
       "        SK_ID_CURR  TARGET  NAME_CONTRACT_TYPE  CODE_GENDER  FLAG_OWN_CAR  \\\n",
       "199159      330893       0                   1            0             1   \n",
       "136140      257913       0                   0            1             0   \n",
       "108862      226261       0                   0            1             1   \n",
       "297109      444215       0                   0            0             1   \n",
       "228132      364242       0                   0            0             0   \n",
       "\n",
       "        FLAG_OWN_REALTY  CNT_CHILDREN  AMT_INCOME_TOTAL  AMT_CREDIT  \\\n",
       "199159                1             1           67500.0    202500.0   \n",
       "136140                1             1          108000.0    569673.0   \n",
       "108862                0             0          180000.0    545040.0   \n",
       "297109                1             0           67500.0    226422.0   \n",
       "228132                1             0           90000.0    239850.0   \n",
       "\n",
       "        AMT_ANNUITY  ...  REG_REGION_NOT_LIVE_REGION  \\\n",
       "199159      10125.0  ...                           0   \n",
       "136140      27837.0  ...                           0   \n",
       "108862      25407.0  ...                           0   \n",
       "297109      11691.0  ...                           0   \n",
       "228132      23494.5  ...                           0   \n",
       "\n",
       "        REG_REGION_NOT_WORK_REGION  LIVE_REGION_NOT_WORK_REGION  \\\n",
       "199159                           0                            0   \n",
       "136140                           0                            0   \n",
       "108862                           0                            0   \n",
       "297109                           0                            0   \n",
       "228132                           0                            0   \n",
       "\n",
       "        REG_CITY_NOT_LIVE_CITY  REG_CITY_NOT_WORK_CITY  \\\n",
       "199159                       1                       1   \n",
       "136140                       0                       0   \n",
       "108862                       0                       0   \n",
       "297109                       0                       0   \n",
       "228132                       0                       0   \n",
       "\n",
       "        LIVE_CITY_NOT_WORK_CITY  ORGANIZATION_TYPE   Age  AgeGroup  \\\n",
       "199159                        1                 30  29.0         0   \n",
       "136140                        0                 13  49.0         2   \n",
       "108862                        0                  5  25.0         0   \n",
       "297109                        0                  5  43.0         2   \n",
       "228132                        0                 33  53.0         3   \n",
       "\n",
       "        IncomeRange  \n",
       "199159            2  \n",
       "136140            2  \n",
       "108862            1  \n",
       "297109            2  \n",
       "228132            2  \n",
       "\n",
       "[5 rows x 36 columns]"
      ]
     },
     "execution_count": 3,
     "metadata": {},
     "output_type": "execute_result"
    }
   ],
   "source": [
    "df1.head(5)"
   ]
  },
  {
   "cell_type": "code",
   "execution_count": 4,
   "id": "2bdd39ff",
   "metadata": {},
   "outputs": [
    {
     "data": {
      "text/html": [
       "<div>\n",
       "<style scoped>\n",
       "    .dataframe tbody tr th:only-of-type {\n",
       "        vertical-align: middle;\n",
       "    }\n",
       "\n",
       "    .dataframe tbody tr th {\n",
       "        vertical-align: top;\n",
       "    }\n",
       "\n",
       "    .dataframe thead th {\n",
       "        text-align: right;\n",
       "    }\n",
       "</style>\n",
       "<table border=\"1\" class=\"dataframe\">\n",
       "  <thead>\n",
       "    <tr style=\"text-align: right;\">\n",
       "      <th></th>\n",
       "      <th>TARGET</th>\n",
       "      <th>NAME_CONTRACT_TYPE</th>\n",
       "      <th>CODE_GENDER</th>\n",
       "      <th>FLAG_OWN_CAR</th>\n",
       "      <th>FLAG_OWN_REALTY</th>\n",
       "      <th>AMT_INCOME_TOTAL</th>\n",
       "      <th>AMT_CREDIT</th>\n",
       "      <th>AMT_ANNUITY</th>\n",
       "      <th>NAME_TYPE_SUITE</th>\n",
       "      <th>NAME_INCOME_TYPE</th>\n",
       "      <th>...</th>\n",
       "      <th>WEEKDAY_APPR_PROCESS_START</th>\n",
       "      <th>HOUR_APPR_PROCESS_START</th>\n",
       "      <th>REG_REGION_NOT_LIVE_REGION</th>\n",
       "      <th>REG_REGION_NOT_WORK_REGION</th>\n",
       "      <th>REG_CITY_NOT_LIVE_CITY</th>\n",
       "      <th>LIVE_CITY_NOT_WORK_CITY</th>\n",
       "      <th>ORGANIZATION_TYPE</th>\n",
       "      <th>Age</th>\n",
       "      <th>AgeGroup</th>\n",
       "      <th>IncomeRange</th>\n",
       "    </tr>\n",
       "  </thead>\n",
       "  <tbody>\n",
       "    <tr>\n",
       "      <th>199159</th>\n",
       "      <td>0</td>\n",
       "      <td>1</td>\n",
       "      <td>0</td>\n",
       "      <td>1</td>\n",
       "      <td>1</td>\n",
       "      <td>67500.0</td>\n",
       "      <td>202500.0</td>\n",
       "      <td>10125.0</td>\n",
       "      <td>6</td>\n",
       "      <td>4</td>\n",
       "      <td>...</td>\n",
       "      <td>1</td>\n",
       "      <td>11</td>\n",
       "      <td>0</td>\n",
       "      <td>0</td>\n",
       "      <td>1</td>\n",
       "      <td>1</td>\n",
       "      <td>30</td>\n",
       "      <td>29.0</td>\n",
       "      <td>0</td>\n",
       "      <td>2</td>\n",
       "    </tr>\n",
       "    <tr>\n",
       "      <th>136140</th>\n",
       "      <td>0</td>\n",
       "      <td>0</td>\n",
       "      <td>1</td>\n",
       "      <td>0</td>\n",
       "      <td>1</td>\n",
       "      <td>108000.0</td>\n",
       "      <td>569673.0</td>\n",
       "      <td>27837.0</td>\n",
       "      <td>6</td>\n",
       "      <td>7</td>\n",
       "      <td>...</td>\n",
       "      <td>1</td>\n",
       "      <td>9</td>\n",
       "      <td>0</td>\n",
       "      <td>0</td>\n",
       "      <td>0</td>\n",
       "      <td>0</td>\n",
       "      <td>13</td>\n",
       "      <td>49.0</td>\n",
       "      <td>2</td>\n",
       "      <td>2</td>\n",
       "    </tr>\n",
       "    <tr>\n",
       "      <th>108862</th>\n",
       "      <td>0</td>\n",
       "      <td>0</td>\n",
       "      <td>1</td>\n",
       "      <td>1</td>\n",
       "      <td>0</td>\n",
       "      <td>180000.0</td>\n",
       "      <td>545040.0</td>\n",
       "      <td>25407.0</td>\n",
       "      <td>6</td>\n",
       "      <td>7</td>\n",
       "      <td>...</td>\n",
       "      <td>5</td>\n",
       "      <td>15</td>\n",
       "      <td>0</td>\n",
       "      <td>0</td>\n",
       "      <td>0</td>\n",
       "      <td>0</td>\n",
       "      <td>5</td>\n",
       "      <td>25.0</td>\n",
       "      <td>0</td>\n",
       "      <td>1</td>\n",
       "    </tr>\n",
       "    <tr>\n",
       "      <th>297109</th>\n",
       "      <td>0</td>\n",
       "      <td>0</td>\n",
       "      <td>0</td>\n",
       "      <td>1</td>\n",
       "      <td>1</td>\n",
       "      <td>67500.0</td>\n",
       "      <td>226422.0</td>\n",
       "      <td>11691.0</td>\n",
       "      <td>6</td>\n",
       "      <td>7</td>\n",
       "      <td>...</td>\n",
       "      <td>0</td>\n",
       "      <td>9</td>\n",
       "      <td>0</td>\n",
       "      <td>0</td>\n",
       "      <td>0</td>\n",
       "      <td>0</td>\n",
       "      <td>5</td>\n",
       "      <td>43.0</td>\n",
       "      <td>2</td>\n",
       "      <td>2</td>\n",
       "    </tr>\n",
       "    <tr>\n",
       "      <th>228132</th>\n",
       "      <td>0</td>\n",
       "      <td>0</td>\n",
       "      <td>0</td>\n",
       "      <td>0</td>\n",
       "      <td>1</td>\n",
       "      <td>90000.0</td>\n",
       "      <td>239850.0</td>\n",
       "      <td>23494.5</td>\n",
       "      <td>6</td>\n",
       "      <td>7</td>\n",
       "      <td>...</td>\n",
       "      <td>1</td>\n",
       "      <td>10</td>\n",
       "      <td>0</td>\n",
       "      <td>0</td>\n",
       "      <td>0</td>\n",
       "      <td>0</td>\n",
       "      <td>33</td>\n",
       "      <td>53.0</td>\n",
       "      <td>3</td>\n",
       "      <td>2</td>\n",
       "    </tr>\n",
       "    <tr>\n",
       "      <th>...</th>\n",
       "      <td>...</td>\n",
       "      <td>...</td>\n",
       "      <td>...</td>\n",
       "      <td>...</td>\n",
       "      <td>...</td>\n",
       "      <td>...</td>\n",
       "      <td>...</td>\n",
       "      <td>...</td>\n",
       "      <td>...</td>\n",
       "      <td>...</td>\n",
       "      <td>...</td>\n",
       "      <td>...</td>\n",
       "      <td>...</td>\n",
       "      <td>...</td>\n",
       "      <td>...</td>\n",
       "      <td>...</td>\n",
       "      <td>...</td>\n",
       "      <td>...</td>\n",
       "      <td>...</td>\n",
       "      <td>...</td>\n",
       "      <td>...</td>\n",
       "    </tr>\n",
       "    <tr>\n",
       "      <th>52397</th>\n",
       "      <td>0</td>\n",
       "      <td>0</td>\n",
       "      <td>0</td>\n",
       "      <td>0</td>\n",
       "      <td>1</td>\n",
       "      <td>135000.0</td>\n",
       "      <td>640080.0</td>\n",
       "      <td>31261.5</td>\n",
       "      <td>6</td>\n",
       "      <td>7</td>\n",
       "      <td>...</td>\n",
       "      <td>5</td>\n",
       "      <td>16</td>\n",
       "      <td>0</td>\n",
       "      <td>0</td>\n",
       "      <td>0</td>\n",
       "      <td>0</td>\n",
       "      <td>20</td>\n",
       "      <td>48.0</td>\n",
       "      <td>2</td>\n",
       "      <td>0</td>\n",
       "    </tr>\n",
       "    <tr>\n",
       "      <th>184541</th>\n",
       "      <td>0</td>\n",
       "      <td>0</td>\n",
       "      <td>0</td>\n",
       "      <td>0</td>\n",
       "      <td>1</td>\n",
       "      <td>126000.0</td>\n",
       "      <td>88884.0</td>\n",
       "      <td>5809.5</td>\n",
       "      <td>6</td>\n",
       "      <td>7</td>\n",
       "      <td>...</td>\n",
       "      <td>5</td>\n",
       "      <td>10</td>\n",
       "      <td>0</td>\n",
       "      <td>0</td>\n",
       "      <td>0</td>\n",
       "      <td>0</td>\n",
       "      <td>28</td>\n",
       "      <td>43.0</td>\n",
       "      <td>2</td>\n",
       "      <td>0</td>\n",
       "    </tr>\n",
       "    <tr>\n",
       "      <th>30842</th>\n",
       "      <td>0</td>\n",
       "      <td>0</td>\n",
       "      <td>1</td>\n",
       "      <td>0</td>\n",
       "      <td>1</td>\n",
       "      <td>90000.0</td>\n",
       "      <td>314055.0</td>\n",
       "      <td>16164.0</td>\n",
       "      <td>6</td>\n",
       "      <td>7</td>\n",
       "      <td>...</td>\n",
       "      <td>0</td>\n",
       "      <td>10</td>\n",
       "      <td>0</td>\n",
       "      <td>1</td>\n",
       "      <td>0</td>\n",
       "      <td>0</td>\n",
       "      <td>40</td>\n",
       "      <td>43.0</td>\n",
       "      <td>2</td>\n",
       "      <td>2</td>\n",
       "    </tr>\n",
       "    <tr>\n",
       "      <th>25956</th>\n",
       "      <td>1</td>\n",
       "      <td>0</td>\n",
       "      <td>0</td>\n",
       "      <td>0</td>\n",
       "      <td>0</td>\n",
       "      <td>54000.0</td>\n",
       "      <td>271957.5</td>\n",
       "      <td>19341.0</td>\n",
       "      <td>6</td>\n",
       "      <td>3</td>\n",
       "      <td>...</td>\n",
       "      <td>6</td>\n",
       "      <td>10</td>\n",
       "      <td>0</td>\n",
       "      <td>0</td>\n",
       "      <td>0</td>\n",
       "      <td>0</td>\n",
       "      <td>57</td>\n",
       "      <td>59.0</td>\n",
       "      <td>3</td>\n",
       "      <td>2</td>\n",
       "    </tr>\n",
       "    <tr>\n",
       "      <th>268310</th>\n",
       "      <td>0</td>\n",
       "      <td>0</td>\n",
       "      <td>0</td>\n",
       "      <td>0</td>\n",
       "      <td>1</td>\n",
       "      <td>135000.0</td>\n",
       "      <td>825673.5</td>\n",
       "      <td>32872.5</td>\n",
       "      <td>6</td>\n",
       "      <td>3</td>\n",
       "      <td>...</td>\n",
       "      <td>6</td>\n",
       "      <td>8</td>\n",
       "      <td>0</td>\n",
       "      <td>0</td>\n",
       "      <td>0</td>\n",
       "      <td>0</td>\n",
       "      <td>57</td>\n",
       "      <td>62.0</td>\n",
       "      <td>4</td>\n",
       "      <td>0</td>\n",
       "    </tr>\n",
       "  </tbody>\n",
       "</table>\n",
       "<p>60000 rows × 30 columns</p>\n",
       "</div>"
      ],
      "text/plain": [
       "        TARGET  NAME_CONTRACT_TYPE  CODE_GENDER  FLAG_OWN_CAR  \\\n",
       "199159       0                   1            0             1   \n",
       "136140       0                   0            1             0   \n",
       "108862       0                   0            1             1   \n",
       "297109       0                   0            0             1   \n",
       "228132       0                   0            0             0   \n",
       "...        ...                 ...          ...           ...   \n",
       "52397        0                   0            0             0   \n",
       "184541       0                   0            0             0   \n",
       "30842        0                   0            1             0   \n",
       "25956        1                   0            0             0   \n",
       "268310       0                   0            0             0   \n",
       "\n",
       "        FLAG_OWN_REALTY  AMT_INCOME_TOTAL  AMT_CREDIT  AMT_ANNUITY  \\\n",
       "199159                1           67500.0    202500.0      10125.0   \n",
       "136140                1          108000.0    569673.0      27837.0   \n",
       "108862                0          180000.0    545040.0      25407.0   \n",
       "297109                1           67500.0    226422.0      11691.0   \n",
       "228132                1           90000.0    239850.0      23494.5   \n",
       "...                 ...               ...         ...          ...   \n",
       "52397                 1          135000.0    640080.0      31261.5   \n",
       "184541                1          126000.0     88884.0       5809.5   \n",
       "30842                 1           90000.0    314055.0      16164.0   \n",
       "25956                 0           54000.0    271957.5      19341.0   \n",
       "268310                1          135000.0    825673.5      32872.5   \n",
       "\n",
       "        NAME_TYPE_SUITE  NAME_INCOME_TYPE  ...  WEEKDAY_APPR_PROCESS_START  \\\n",
       "199159                6                 4  ...                           1   \n",
       "136140                6                 7  ...                           1   \n",
       "108862                6                 7  ...                           5   \n",
       "297109                6                 7  ...                           0   \n",
       "228132                6                 7  ...                           1   \n",
       "...                 ...               ...  ...                         ...   \n",
       "52397                 6                 7  ...                           5   \n",
       "184541                6                 7  ...                           5   \n",
       "30842                 6                 7  ...                           0   \n",
       "25956                 6                 3  ...                           6   \n",
       "268310                6                 3  ...                           6   \n",
       "\n",
       "        HOUR_APPR_PROCESS_START  REG_REGION_NOT_LIVE_REGION  \\\n",
       "199159                       11                           0   \n",
       "136140                        9                           0   \n",
       "108862                       15                           0   \n",
       "297109                        9                           0   \n",
       "228132                       10                           0   \n",
       "...                         ...                         ...   \n",
       "52397                        16                           0   \n",
       "184541                       10                           0   \n",
       "30842                        10                           0   \n",
       "25956                        10                           0   \n",
       "268310                        8                           0   \n",
       "\n",
       "        REG_REGION_NOT_WORK_REGION  REG_CITY_NOT_LIVE_CITY  \\\n",
       "199159                           0                       1   \n",
       "136140                           0                       0   \n",
       "108862                           0                       0   \n",
       "297109                           0                       0   \n",
       "228132                           0                       0   \n",
       "...                            ...                     ...   \n",
       "52397                            0                       0   \n",
       "184541                           0                       0   \n",
       "30842                            1                       0   \n",
       "25956                            0                       0   \n",
       "268310                           0                       0   \n",
       "\n",
       "        LIVE_CITY_NOT_WORK_CITY  ORGANIZATION_TYPE   Age  AgeGroup  \\\n",
       "199159                        1                 30  29.0         0   \n",
       "136140                        0                 13  49.0         2   \n",
       "108862                        0                  5  25.0         0   \n",
       "297109                        0                  5  43.0         2   \n",
       "228132                        0                 33  53.0         3   \n",
       "...                         ...                ...   ...       ...   \n",
       "52397                         0                 20  48.0         2   \n",
       "184541                        0                 28  43.0         2   \n",
       "30842                         0                 40  43.0         2   \n",
       "25956                         0                 57  59.0         3   \n",
       "268310                        0                 57  62.0         4   \n",
       "\n",
       "        IncomeRange  \n",
       "199159            2  \n",
       "136140            2  \n",
       "108862            1  \n",
       "297109            2  \n",
       "228132            2  \n",
       "...             ...  \n",
       "52397             0  \n",
       "184541            0  \n",
       "30842             2  \n",
       "25956             2  \n",
       "268310            0  \n",
       "\n",
       "[60000 rows x 30 columns]"
      ]
     },
     "execution_count": 4,
     "metadata": {},
     "output_type": "execute_result"
    }
   ],
   "source": [
    "df1.drop(['SK_ID_CURR','AMT_GOODS_PRICE','REGION_RATING_CLIENT_W_CITY','CNT_CHILDREN','LIVE_REGION_NOT_WORK_REGION','REG_CITY_NOT_WORK_CITY'], axis =1)"
   ]
  },
  {
   "cell_type": "code",
   "execution_count": 5,
   "id": "a707468c",
   "metadata": {},
   "outputs": [],
   "source": [
    "x = df1.drop(['TARGET'],axis = 1)\n",
    "y = df1['TARGET']"
   ]
  },
  {
   "cell_type": "code",
   "execution_count": 6,
   "id": "414f882a",
   "metadata": {},
   "outputs": [],
   "source": [
    "import matplotlib.pyplot as plt\n",
    "%matplotlib inline\n",
    "import seaborn as sns\n",
    "\n",
    "import sklearn.metrics as metrics\n",
    "from sklearn.preprocessing import RobustScaler\n",
    "from sklearn.model_selection import train_test_split\n",
    "from sklearn.feature_extraction.text import TfidfVectorizer\n",
    "from sklearn.metrics import confusion_matrix, classification_report\n",
    "from sklearn.metrics import accuracy_score,f1_score,precision_score, recall_score, fbeta_score, roc_auc_score\n",
    "\n",
    "\n",
    "from sklearn.linear_model import LogisticRegression\n",
    "from sklearn.svm import SVC\n",
    "from sklearn.ensemble import RandomForestClassifier\n",
    "from sklearn.naive_bayes import BernoulliNB\n",
    "from sklearn.neighbors import KNeighborsClassifier\n",
    "from sklearn.tree import DecisionTreeClassifier\n",
    "from sklearn.naive_bayes import GaussianNB\n",
    "import xgboost as xgb\n",
    "import lightgbm as lgb\n",
    "from sklearn.metrics import matthews_corrcoef\n",
    "from sklearn.metrics import roc_curve, auc\n",
    "import math\n",
    "from imblearn.combine import SMOTEENN\n",
    "#from imblearn.over_sampling import SMOTEENN"
   ]
  },
  {
   "cell_type": "markdown",
   "id": "8f6f0cf6",
   "metadata": {},
   "source": [
    "### Train test split"
   ]
  },
  {
   "cell_type": "code",
   "execution_count": 7,
   "id": "edeea98e",
   "metadata": {},
   "outputs": [],
   "source": [
    "x_train_res,x_test,y_train_res,y_test = train_test_split(x,y,test_size=0.3,random_state = 42)"
   ]
  },
  {
   "cell_type": "code",
   "execution_count": 8,
   "id": "3116acc8",
   "metadata": {},
   "outputs": [
    {
     "data": {
      "text/plain": [
       "1    33368\n",
       "0    23433\n",
       "Name: TARGET, dtype: int64"
      ]
     },
     "execution_count": 8,
     "metadata": {},
     "output_type": "execute_result"
    }
   ],
   "source": [
    "sm = SMOTEENN()    #oversampling\n",
    "x_train_res , y_train_res = sm.fit_resample(x_train_res,y_train_res)\n",
    "y_train_res.value_counts()"
   ]
  },
  {
   "cell_type": "markdown",
   "id": "c18ed6c8",
   "metadata": {},
   "source": [
    "### Logistic Regression"
   ]
  },
  {
   "cell_type": "code",
   "execution_count": 9,
   "id": "30e83356",
   "metadata": {},
   "outputs": [
    {
     "data": {
      "text/plain": [
       "LogisticRegression()"
      ]
     },
     "execution_count": 9,
     "metadata": {},
     "output_type": "execute_result"
    }
   ],
   "source": [
    "model_LogR = LogisticRegression()\n",
    "model_LogR.fit(x_train_res,y_train_res)"
   ]
  },
  {
   "cell_type": "code",
   "execution_count": 10,
   "id": "e4c1f4f6",
   "metadata": {},
   "outputs": [
    {
     "data": {
      "text/plain": [
       "array([3.58197648e-08])"
      ]
     },
     "execution_count": 10,
     "metadata": {},
     "output_type": "execute_result"
    }
   ],
   "source": [
    "model_LogR.intercept_"
   ]
  },
  {
   "cell_type": "code",
   "execution_count": 11,
   "id": "9ea68c14",
   "metadata": {},
   "outputs": [],
   "source": [
    "y_predictLogR = model_LogR.predict(x_test)"
   ]
  },
  {
   "cell_type": "code",
   "execution_count": 12,
   "id": "9c1670ff",
   "metadata": {},
   "outputs": [
    {
     "data": {
      "text/plain": [
       "0.6383338321508424"
      ]
     },
     "execution_count": 12,
     "metadata": {},
     "output_type": "execute_result"
    }
   ],
   "source": [
    "model_scoreLogR =  model_LogR.score(x_train_res, y_train_res)  #training accuracy\n",
    "model_scoreLogR "
   ]
  },
  {
   "cell_type": "code",
   "execution_count": 13,
   "id": "b3b34d49",
   "metadata": {},
   "outputs": [
    {
     "data": {
      "text/plain": [
       "0.37072222222222223"
      ]
     },
     "execution_count": 13,
     "metadata": {},
     "output_type": "execute_result"
    }
   ],
   "source": [
    "model_LogR.score(x_test , y_test)        #Testing accuracy"
   ]
  },
  {
   "cell_type": "code",
   "execution_count": 14,
   "id": "88095215",
   "metadata": {},
   "outputs": [
    {
     "name": "stdout",
     "output_type": "stream",
     "text": [
      "              precision    recall  f1-score   support\n",
      "\n",
      "           0       0.95      0.33      0.49     16546\n",
      "           1       0.09      0.78      0.17      1454\n",
      "\n",
      "    accuracy                           0.37     18000\n",
      "   macro avg       0.52      0.56      0.33     18000\n",
      "weighted avg       0.88      0.37      0.47     18000\n",
      "\n"
     ]
    }
   ],
   "source": [
    "print(classification_report(y_test,y_predictLogR))"
   ]
  },
  {
   "cell_type": "code",
   "execution_count": 15,
   "id": "abfca02e",
   "metadata": {},
   "outputs": [
    {
     "name": "stdout",
     "output_type": "stream",
     "text": [
      "[[ 5537 11009]\n",
      " [  318  1136]]\n"
     ]
    }
   ],
   "source": [
    "confusion_matrixLR = confusion_matrix(y_test,y_predictLogR)\n",
    "print(confusion_matrixLR)"
   ]
  },
  {
   "cell_type": "code",
   "execution_count": 16,
   "id": "31aed0c5",
   "metadata": {},
   "outputs": [
    {
     "data": {
      "text/plain": [
       "<AxesSubplot:>"
      ]
     },
     "execution_count": 16,
     "metadata": {},
     "output_type": "execute_result"
    },
    {
     "data": {
      "image/png": "[encoded data removed]",
      "text/plain": [
       "<Figure size 432x288 with 1 Axes>"
      ]
     },
     "metadata": {
      "needs_background": "light"
     },
     "output_type": "display_data"
    }
   ],
   "source": [
    "sns.heatmap(confusion_matrixLR, annot=True, fmt = 'd', cbar = False)"
   ]
  },
  {
   "cell_type": "code",
   "execution_count": 17,
   "id": "a4af49f7",
   "metadata": {},
   "outputs": [
    {
     "data": {
      "text/plain": [
       "0.5579678994212458"
      ]
     },
     "execution_count": 17,
     "metadata": {},
     "output_type": "execute_result"
    }
   ],
   "source": [
    "auc = roc_auc_score(y_test,y_predictLogR)\n",
    "auc"
   ]
  },
  {
   "cell_type": "markdown",
   "id": "d54995e8",
   "metadata": {},
   "source": [
    "### SVC"
   ]
  },
  {
   "cell_type": "code",
   "execution_count": 18,
   "id": "fa949f3f",
   "metadata": {},
   "outputs": [
    {
     "data": {
      "text/plain": [
       "SVC(C=200, gamma=1)"
      ]
     },
     "execution_count": 18,
     "metadata": {},
     "output_type": "execute_result"
    }
   ],
   "source": [
    "model_SVC = SVC(C=200,gamma=1)\n",
    "model_SVC.fit(x_train_res,y_train_res)"
   ]
  },
  {
   "cell_type": "code",
   "execution_count": 19,
   "id": "e3c47533",
   "metadata": {},
   "outputs": [],
   "source": [
    "y_predictSVC = model_SVC.predict(x_test)"
   ]
  },
  {
   "cell_type": "code",
   "execution_count": 20,
   "id": "9e941030",
   "metadata": {},
   "outputs": [
    {
     "data": {
      "text/plain": [
       "1.0"
      ]
     },
     "execution_count": 20,
     "metadata": {},
     "output_type": "execute_result"
    }
   ],
   "source": [
    "model_scoreSVC =  model_SVC.score(x_train_res , y_train_res)  #training accuracy\n",
    "model_scoreSVC"
   ]
  },
  {
   "cell_type": "code",
   "execution_count": 21,
   "id": "9029e4a1",
   "metadata": {},
   "outputs": [
    {
     "data": {
      "text/plain": [
       "0.08077777777777778"
      ]
     },
     "execution_count": 21,
     "metadata": {},
     "output_type": "execute_result"
    }
   ],
   "source": [
    "model_SVC.score(x_test , y_test)        #Testing accuracy"
   ]
  },
  {
   "cell_type": "code",
   "execution_count": 22,
   "id": "7f2768a3",
   "metadata": {},
   "outputs": [
    {
     "name": "stdout",
     "output_type": "stream",
     "text": [
      "              precision    recall  f1-score   support\n",
      "\n",
      "           0       0.00      0.00      0.00     16546\n",
      "           1       0.08      1.00      0.15      1454\n",
      "\n",
      "    accuracy                           0.08     18000\n",
      "   macro avg       0.04      0.50      0.07     18000\n",
      "weighted avg       0.01      0.08      0.01     18000\n",
      "\n"
     ]
    },
    {
     "name": "stderr",
     "output_type": "stream",
     "text": [
      "C:\\Users\\sneha\\anaconda3\\lib\\site-packages\\sklearn\\metrics\\_classification.py:1318: UndefinedMetricWarning: Precision and F-score are ill-defined and being set to 0.0 in labels with no predicted samples. Use `zero_division` parameter to control this behavior.\n",
      "  _warn_prf(average, modifier, msg_start, len(result))\n",
      "C:\\Users\\sneha\\anaconda3\\lib\\site-packages\\sklearn\\metrics\\_classification.py:1318: UndefinedMetricWarning: Precision and F-score are ill-defined and being set to 0.0 in labels with no predicted samples. Use `zero_division` parameter to control this behavior.\n",
      "  _warn_prf(average, modifier, msg_start, len(result))\n",
      "C:\\Users\\sneha\\anaconda3\\lib\\site-packages\\sklearn\\metrics\\_classification.py:1318: UndefinedMetricWarning: Precision and F-score are ill-defined and being set to 0.0 in labels with no predicted samples. Use `zero_division` parameter to control this behavior.\n",
      "  _warn_prf(average, modifier, msg_start, len(result))\n"
     ]
    }
   ],
   "source": [
    "print(classification_report(y_test,y_predictSVC))"
   ]
  },
  {
   "cell_type": "code",
   "execution_count": 23,
   "id": "3d8445ce",
   "metadata": {},
   "outputs": [
    {
     "name": "stdout",
     "output_type": "stream",
     "text": [
      "[[    0 16546]\n",
      " [    0  1454]]\n"
     ]
    }
   ],
   "source": [
    "confusion_matrixSVC = metrics.confusion_matrix(y_test,y_predictSVC)\n",
    "print(confusion_matrixSVC)"
   ]
  },
  {
   "cell_type": "code",
   "execution_count": 24,
   "id": "ea961934",
   "metadata": {},
   "outputs": [
    {
     "data": {
      "text/plain": [
       "<AxesSubplot:>"
      ]
     },
     "execution_count": 24,
     "metadata": {},
     "output_type": "execute_result"
    },
    {
     "data": {
      "image/png": "[encoded data removed]",
      "text/plain": [
       "<Figure size 432x288 with 1 Axes>"
      ]
     },
     "metadata": {
      "needs_background": "light"
     },
     "output_type": "display_data"
    }
   ],
   "source": [
    "sns.heatmap(confusion_matrixSVC, annot=True, fmt = 'd', cbar = False)"
   ]
  },
  {
   "cell_type": "markdown",
   "id": "bf42f889",
   "metadata": {},
   "source": [
    "### Random Forest Classifier"
   ]
  },
  {
   "cell_type": "code",
   "execution_count": 25,
   "id": "ea69011f",
   "metadata": {},
   "outputs": [],
   "source": [
    "model_RF = RandomForestClassifier(n_estimators=105,criterion='gini',random_state=100,max_depth=11,min_samples_leaf=11)"
   ]
  },
  {
   "cell_type": "code",
   "execution_count": 26,
   "id": "1117b024",
   "metadata": {},
   "outputs": [
    {
     "data": {
      "text/plain": [
       "RandomForestClassifier(max_depth=11, min_samples_leaf=11, n_estimators=105,\n",
       "                       random_state=100)"
      ]
     },
     "execution_count": 26,
     "metadata": {},
     "output_type": "execute_result"
    }
   ],
   "source": [
    "model_RF.fit(x_train_res , y_train_res)"
   ]
  },
  {
   "cell_type": "code",
   "execution_count": 27,
   "id": "9fcbb321",
   "metadata": {},
   "outputs": [],
   "source": [
    "y_predictRF = model_RF.predict(x_test)"
   ]
  },
  {
   "cell_type": "code",
   "execution_count": 28,
   "id": "717f07e0",
   "metadata": {},
   "outputs": [
    {
     "data": {
      "text/plain": [
       "0.8774845513283217"
      ]
     },
     "execution_count": 28,
     "metadata": {},
     "output_type": "execute_result"
    }
   ],
   "source": [
    "model_scoreRF = model_RF.score(x_train_res , y_train_res) #training accuracy\n",
    "model_scoreRF"
   ]
  },
  {
   "cell_type": "code",
   "execution_count": 29,
   "id": "21c532fc",
   "metadata": {},
   "outputs": [
    {
     "data": {
      "text/plain": [
       "0.7393888888888889"
      ]
     },
     "execution_count": 29,
     "metadata": {},
     "output_type": "execute_result"
    }
   ],
   "source": [
    "model_RF.score(x_test,y_test)              #testing accuracy"
   ]
  },
  {
   "cell_type": "code",
   "execution_count": 30,
   "id": "661fa6f3",
   "metadata": {},
   "outputs": [
    {
     "name": "stdout",
     "output_type": "stream",
     "text": [
      "              precision    recall  f1-score   support\n",
      "\n",
      "           0       0.93      0.78      0.85     16546\n",
      "           1       0.11      0.33      0.17      1454\n",
      "\n",
      "    accuracy                           0.74     18000\n",
      "   macro avg       0.52      0.55      0.51     18000\n",
      "weighted avg       0.86      0.74      0.79     18000\n",
      "\n"
     ]
    }
   ],
   "source": [
    "print(classification_report(y_test,y_predictRF))"
   ]
  },
  {
   "cell_type": "code",
   "execution_count": 31,
   "id": "6c910e6e",
   "metadata": {},
   "outputs": [
    {
     "name": "stdout",
     "output_type": "stream",
     "text": [
      "[[12829  3717]\n",
      " [  974   480]]\n"
     ]
    }
   ],
   "source": [
    "confusion_matrixRF = metrics.confusion_matrix(y_test,y_predictRF)\n",
    "print(confusion_matrixRF)"
   ]
  },
  {
   "cell_type": "code",
   "execution_count": 32,
   "id": "4da7bd26",
   "metadata": {},
   "outputs": [
    {
     "data": {
      "text/plain": [
       "<AxesSubplot:>"
      ]
     },
     "execution_count": 32,
     "metadata": {},
     "output_type": "execute_result"
    },
    {
     "data": {
      "image/png": "[encoded data removed]",
      "text/plain": [
       "<Figure size 432x288 with 1 Axes>"
      ]
     },
     "metadata": {
      "needs_background": "light"
     },
     "output_type": "display_data"
    }
   ],
   "source": [
    "sns.heatmap(confusion_matrixRF, annot=True, fmt = 'd', cbar = False)"
   ]
  },
  {
   "cell_type": "code",
   "execution_count": null,
   "id": "85f4b795",
   "metadata": {},
   "outputs": [],
   "source": []
  },
  {
   "cell_type": "markdown",
   "id": "fc7223ed",
   "metadata": {},
   "source": [
    "### Decision Tree Classifier"
   ]
  },
  {
   "cell_type": "code",
   "execution_count": 33,
   "id": "7bc7c08e",
   "metadata": {},
   "outputs": [],
   "source": [
    "model_DT = DecisionTreeClassifier(criterion=\"gini\",random_state=42,max_depth = 11, min_samples_leaf = 12)"
   ]
  },
  {
   "cell_type": "code",
   "execution_count": 34,
   "id": "a08d1733",
   "metadata": {},
   "outputs": [],
   "source": [
    "model_DT.fit(x_train_res , y_train_res)\n",
    "y_predictDT = model_DT.predict(x_test)"
   ]
  },
  {
   "cell_type": "code",
   "execution_count": 35,
   "id": "6c84f26f",
   "metadata": {},
   "outputs": [
    {
     "data": {
      "text/plain": [
       "0.843136564497104"
      ]
     },
     "execution_count": 35,
     "metadata": {},
     "output_type": "execute_result"
    }
   ],
   "source": [
    "model_scoreDT = model_DT.score(x_train_res , y_train_res)\n",
    "model_scoreDT"
   ]
  },
  {
   "cell_type": "code",
   "execution_count": 36,
   "id": "9438d001",
   "metadata": {},
   "outputs": [
    {
     "name": "stdout",
     "output_type": "stream",
     "text": [
      "              precision    recall  f1-score   support\n",
      "\n",
      "           0       0.93      0.80      0.86     16546\n",
      "           1       0.11      0.28      0.16      1454\n",
      "\n",
      "    accuracy                           0.76     18000\n",
      "   macro avg       0.52      0.54      0.51     18000\n",
      "weighted avg       0.86      0.76      0.80     18000\n",
      "\n"
     ]
    }
   ],
   "source": [
    "print(classification_report(y_test,y_predictDT))"
   ]
  },
  {
   "cell_type": "code",
   "execution_count": 37,
   "id": "28fbd7d0",
   "metadata": {},
   "outputs": [
    {
     "name": "stdout",
     "output_type": "stream",
     "text": [
      "[[13187  3359]\n",
      " [ 1041   413]]\n"
     ]
    }
   ],
   "source": [
    "confusion_matrix = confusion_matrix(y_test,y_predictDT)\n",
    "print(confusion_matrix)"
   ]
  },
  {
   "cell_type": "code",
   "execution_count": 38,
   "id": "e8194a23",
   "metadata": {},
   "outputs": [
    {
     "data": {
      "text/plain": [
       "<AxesSubplot:>"
      ]
     },
     "execution_count": 38,
     "metadata": {},
     "output_type": "execute_result"
    },
    {
     "data": {
      "image/png": "[encoded data removed]",
      "text/plain": [
       "<Figure size 432x288 with 1 Axes>"
      ]
     },
     "metadata": {
      "needs_background": "light"
     },
     "output_type": "display_data"
    }
   ],
   "source": [
    "sns.heatmap(confusion_matrix, annot=True, fmt = 'd', cbar = False)"
   ]
  },
  {
   "cell_type": "code",
   "execution_count": 39,
   "id": "5b3990dc",
   "metadata": {},
   "outputs": [
    {
     "data": {
      "text/plain": [
       "0.843136564497104"
      ]
     },
     "execution_count": 39,
     "metadata": {},
     "output_type": "execute_result"
    }
   ],
   "source": [
    "model_DT.score(x_train_res , y_train_res)"
   ]
  },
  {
   "cell_type": "code",
   "execution_count": 40,
   "id": "cb9e4492",
   "metadata": {},
   "outputs": [
    {
     "data": {
      "text/plain": [
       "0.7555555555555555"
      ]
     },
     "execution_count": 40,
     "metadata": {},
     "output_type": "execute_result"
    }
   ],
   "source": [
    "model_DT.score(x_test,y_test)  "
   ]
  },
  {
   "cell_type": "code",
   "execution_count": 41,
   "id": "67924918",
   "metadata": {},
   "outputs": [
    {
     "data": {
      "text/plain": [
       "Text(0, 0.5, 'True Positive Rate')"
      ]
     },
     "execution_count": 41,
     "metadata": {},
     "output_type": "execute_result"
    },
    {
     "data": {
      "image/png": "[encoded data removed]",
      "text/plain": [
       "<Figure size 432x288 with 1 Axes>"
      ]
     },
     "metadata": {
      "needs_background": "light"
     },
     "output_type": "display_data"
    }
   ],
   "source": [
    "fpr,tpr,thresholds = roc_curve(y_test,y_predictDT)\n",
    "plt.plot(fpr, tpr)\n",
    "plt.xlabel('False Positive Rate')\n",
    "plt.ylabel('True Positive Rate')"
   ]
  },
  {
   "cell_type": "code",
   "execution_count": null,
   "id": "38e168c7",
   "metadata": {},
   "outputs": [],
   "source": []
  },
  {
   "cell_type": "markdown",
   "id": "4d595dfd",
   "metadata": {},
   "source": [
    "### XGBoost"
   ]
  },
  {
   "cell_type": "code",
   "execution_count": 45,
   "id": "e393ef36",
   "metadata": {},
   "outputs": [
    {
     "data": {
      "text/plain": [
       "XGBClassifier(base_score=0.5, booster='gbtree', callbacks=None,\n",
       "              colsample_bylevel=1, colsample_bynode=1, colsample_bytree=1,\n",
       "              early_stopping_rounds=None, enable_categorical=False,\n",
       "              eval_metric=None, feature_types=None, gamma=0, gpu_id=-1,\n",
       "              grow_policy='depthwise', importance_type=None,\n",
       "              interaction_constraints='', learning_rate=0.5, max_bin=256,\n",
       "              max_cat_threshold=64, max_cat_to_onehot=4, max_delta_step=0,\n",
       "              max_depth=20, max_leaves=0, min_child_weight=1, missing=nan,\n",
       "              monotone_constraints='()', n_estimators=50, n_jobs=0,\n",
       "              num_parallel_tree=1, predictor='auto', random_state=0, ...)"
      ]
     },
     "execution_count": 45,
     "metadata": {},
     "output_type": "execute_result"
    }
   ],
   "source": [
    "model_XGB = xgb.XGBClassifier(n_estimators = 50, max_depth = 20,learning_rate = 0.5)\n",
    "model_XGB.fit(x_train_res,y_train_res)"
   ]
  },
  {
   "cell_type": "code",
   "execution_count": 46,
   "id": "b4215516",
   "metadata": {},
   "outputs": [],
   "source": [
    "y_predictXGB = model_XGB.predict(x_test)"
   ]
  },
  {
   "cell_type": "code",
   "execution_count": 47,
   "id": "00222a42",
   "metadata": {},
   "outputs": [
    {
     "data": {
      "text/plain": [
       "1.0"
      ]
     },
     "execution_count": 47,
     "metadata": {},
     "output_type": "execute_result"
    }
   ],
   "source": [
    "model_scoreXGB = model_XGB.score(x_train_res , y_train_res) #training accuracy\n",
    "model_scoreXGB"
   ]
  },
  {
   "cell_type": "code",
   "execution_count": 48,
   "id": "eb365556",
   "metadata": {},
   "outputs": [
    {
     "data": {
      "text/plain": [
       "0.8912222222222222"
      ]
     },
     "execution_count": 48,
     "metadata": {},
     "output_type": "execute_result"
    }
   ],
   "source": [
    "model_XGB.score(x_test,y_test)                                #Testing accuracy"
   ]
  },
  {
   "cell_type": "code",
   "execution_count": 49,
   "id": "053388ae",
   "metadata": {},
   "outputs": [
    {
     "name": "stdout",
     "output_type": "stream",
     "text": [
      "[[15925   621]\n",
      " [ 1337   117]]\n"
     ]
    }
   ],
   "source": [
    "confusion_matrixXGB = metrics.confusion_matrix(y_test,y_predictXGB)\n",
    "print(confusion_matrixXGB)"
   ]
  },
  {
   "cell_type": "code",
   "execution_count": 50,
   "id": "7aed3917",
   "metadata": {},
   "outputs": [
    {
     "data": {
      "text/plain": [
       "<AxesSubplot:>"
      ]
     },
     "execution_count": 50,
     "metadata": {},
     "output_type": "execute_result"
    },
    {
     "data": {
      "image/png": "[encoded data removed]",
      "text/plain": [
       "<Figure size 432x288 with 1 Axes>"
      ]
     },
     "metadata": {
      "needs_background": "light"
     },
     "output_type": "display_data"
    }
   ],
   "source": [
    "sns.heatmap(confusion_matrixXGB, annot=True, fmt = 'd', cbar = False)"
   ]
  },
  {
   "cell_type": "code",
   "execution_count": 51,
   "id": "523f6193",
   "metadata": {},
   "outputs": [
    {
     "name": "stdout",
     "output_type": "stream",
     "text": [
      "              precision    recall  f1-score   support\n",
      "\n",
      "           0       0.92      0.96      0.94     16546\n",
      "           1       0.16      0.08      0.11      1454\n",
      "\n",
      "    accuracy                           0.89     18000\n",
      "   macro avg       0.54      0.52      0.52     18000\n",
      "weighted avg       0.86      0.89      0.87     18000\n",
      "\n"
     ]
    }
   ],
   "source": [
    "print(classification_report(y_test,y_predictXGB))"
   ]
  },
  {
   "cell_type": "code",
   "execution_count": null,
   "id": "ab117a65",
   "metadata": {},
   "outputs": [],
   "source": []
  },
  {
   "cell_type": "markdown",
   "id": "689fba6d",
   "metadata": {},
   "source": [
    "### Bernoulli Naive Bayes algorithm"
   ]
  },
  {
   "cell_type": "code",
   "execution_count": 52,
   "id": "53ab367c",
   "metadata": {},
   "outputs": [
    {
     "data": {
      "text/plain": [
       "BernoulliNB()"
      ]
     },
     "execution_count": 52,
     "metadata": {},
     "output_type": "execute_result"
    }
   ],
   "source": [
    "model_Naive =   BernoulliNB()\n",
    "model_Naive.fit(x_train_res,y_train_res)"
   ]
  },
  {
   "cell_type": "code",
   "execution_count": 53,
   "id": "e5872eaf",
   "metadata": {},
   "outputs": [],
   "source": [
    "y_predictNaive = model_Naive.predict(x_test)"
   ]
  },
  {
   "cell_type": "code",
   "execution_count": 54,
   "id": "311c5164",
   "metadata": {},
   "outputs": [
    {
     "data": {
      "text/plain": [
       "0.699723596415556"
      ]
     },
     "execution_count": 54,
     "metadata": {},
     "output_type": "execute_result"
    }
   ],
   "source": [
    "model_scoreNaive = model_Naive.score(x_train_res , y_train_res) #training accuracy\n",
    "model_scoreNaive"
   ]
  },
  {
   "cell_type": "code",
   "execution_count": 55,
   "id": "8ad5cfbb",
   "metadata": {},
   "outputs": [
    {
     "data": {
      "text/plain": [
       "0.49577777777777776"
      ]
     },
     "execution_count": 55,
     "metadata": {},
     "output_type": "execute_result"
    }
   ],
   "source": [
    "model_Naive.score(x_test,y_test)                                #Testing accuracy"
   ]
  },
  {
   "cell_type": "code",
   "execution_count": 56,
   "id": "ed31217c",
   "metadata": {},
   "outputs": [
    {
     "name": "stdout",
     "output_type": "stream",
     "text": [
      "              precision    recall  f1-score   support\n",
      "\n",
      "           0       0.92      0.49      0.64     16546\n",
      "           1       0.08      0.51      0.14      1454\n",
      "\n",
      "    accuracy                           0.50     18000\n",
      "   macro avg       0.50      0.50      0.39     18000\n",
      "weighted avg       0.85      0.50      0.60     18000\n",
      "\n"
     ]
    }
   ],
   "source": [
    "print(classification_report(y_test,y_predictNaive))"
   ]
  },
  {
   "cell_type": "code",
   "execution_count": 57,
   "id": "cfe81f4e",
   "metadata": {},
   "outputs": [
    {
     "name": "stdout",
     "output_type": "stream",
     "text": [
      "[[8181 8365]\n",
      " [ 711  743]]\n"
     ]
    }
   ],
   "source": [
    "confusion_matrixNaive = metrics.confusion_matrix(y_test,y_predictNaive)\n",
    "print(confusion_matrixNaive)"
   ]
  },
  {
   "cell_type": "code",
   "execution_count": 58,
   "id": "19f1b39d",
   "metadata": {},
   "outputs": [
    {
     "data": {
      "text/plain": [
       "<AxesSubplot:>"
      ]
     },
     "execution_count": 58,
     "metadata": {},
     "output_type": "execute_result"
    },
    {
     "data": {
      "image/png": "[encoded data removed]",
      "text/plain": [
       "<Figure size 432x288 with 1 Axes>"
      ]
     },
     "metadata": {
      "needs_background": "light"
     },
     "output_type": "display_data"
    }
   ],
   "source": [
    "sns.heatmap(confusion_matrixNaive, annot=True, fmt = 'd', cbar = False)"
   ]
  },
  {
   "cell_type": "code",
   "execution_count": null,
   "id": "3d9f1b86",
   "metadata": {},
   "outputs": [],
   "source": []
  },
  {
   "cell_type": "markdown",
   "id": "cde30a20",
   "metadata": {},
   "source": [
    "### KNeighborsClassifier"
   ]
  },
  {
   "cell_type": "code",
   "execution_count": 59,
   "id": "87dfcd86",
   "metadata": {},
   "outputs": [
    {
     "data": {
      "text/plain": [
       "KNeighborsClassifier()"
      ]
     },
     "execution_count": 59,
     "metadata": {},
     "output_type": "execute_result"
    }
   ],
   "source": [
    "model_KNN =  KNeighborsClassifier(n_neighbors=5)\n",
    "model_KNN.fit(x_train_res,y_train_res)"
   ]
  },
  {
   "cell_type": "code",
   "execution_count": 60,
   "id": "3c9c5b47",
   "metadata": {},
   "outputs": [],
   "source": [
    "y_predictKNN = model_KNN.predict(x_test)"
   ]
  },
  {
   "cell_type": "code",
   "execution_count": 61,
   "id": "a7f21da1",
   "metadata": {},
   "outputs": [
    {
     "data": {
      "text/plain": [
       "0.9827995985986162"
      ]
     },
     "execution_count": 61,
     "metadata": {},
     "output_type": "execute_result"
    }
   ],
   "source": [
    "model_scoreKNN = model_KNN.score(x_train_res , y_train_res) #training accuracy\n",
    "model_scoreKNN"
   ]
  },
  {
   "cell_type": "code",
   "execution_count": 62,
   "id": "7b7a4f4a",
   "metadata": {},
   "outputs": [
    {
     "data": {
      "text/plain": [
       "0.5788333333333333"
      ]
     },
     "execution_count": 62,
     "metadata": {},
     "output_type": "execute_result"
    }
   ],
   "source": [
    "model_KNN.score(x_test,y_test)                                #Testing accuracy"
   ]
  },
  {
   "cell_type": "code",
   "execution_count": 63,
   "id": "93925453",
   "metadata": {},
   "outputs": [
    {
     "name": "stdout",
     "output_type": "stream",
     "text": [
      "              precision    recall  f1-score   support\n",
      "\n",
      "           0       0.93      0.59      0.72     16546\n",
      "           1       0.09      0.47      0.15      1454\n",
      "\n",
      "    accuracy                           0.58     18000\n",
      "   macro avg       0.51      0.53      0.44     18000\n",
      "weighted avg       0.86      0.58      0.67     18000\n",
      "\n"
     ]
    }
   ],
   "source": [
    "print(classification_report(y_test,y_predictKNN))"
   ]
  },
  {
   "cell_type": "code",
   "execution_count": 64,
   "id": "5afa6a73",
   "metadata": {},
   "outputs": [
    {
     "name": "stdout",
     "output_type": "stream",
     "text": [
      "[[9742 6804]\n",
      " [ 777  677]]\n"
     ]
    }
   ],
   "source": [
    "confusion_matrixKNN = metrics.confusion_matrix(y_test,y_predictKNN)\n",
    "print(confusion_matrixKNN)"
   ]
  },
  {
   "cell_type": "code",
   "execution_count": 65,
   "id": "bc9679f0",
   "metadata": {},
   "outputs": [
    {
     "data": {
      "text/plain": [
       "<AxesSubplot:>"
      ]
     },
     "execution_count": 65,
     "metadata": {},
     "output_type": "execute_result"
    },
    {
     "data": {
      "image/png": "[encoded data removed]",
      "text/plain": [
       "<Figure size 432x288 with 1 Axes>"
      ]
     },
     "metadata": {
      "needs_background": "light"
     },
     "output_type": "display_data"
    }
   ],
   "source": [
    "sns.heatmap(confusion_matrixKNN, annot=True, fmt = 'd', cbar = False)"
   ]
  },
  {
   "cell_type": "code",
   "execution_count": null,
   "id": "2b3049b8",
   "metadata": {},
   "outputs": [],
   "source": []
  },
  {
   "cell_type": "markdown",
   "id": "9bb5e4e6",
   "metadata": {},
   "source": [
    "### Gaussian Naive Bayes algorithm"
   ]
  },
  {
   "cell_type": "code",
   "execution_count": 66,
   "id": "98ab01d3",
   "metadata": {},
   "outputs": [
    {
     "data": {
      "text/plain": [
       "GaussianNB()"
      ]
     },
     "execution_count": 66,
     "metadata": {},
     "output_type": "execute_result"
    }
   ],
   "source": [
    "model_GNB = GaussianNB()\n",
    "model_GNB.fit(x_train_res,y_train_res)"
   ]
  },
  {
   "cell_type": "code",
   "execution_count": 67,
   "id": "4f16a09e",
   "metadata": {},
   "outputs": [],
   "source": [
    "y_predictGNB = model_GNB.predict(x_test)"
   ]
  },
  {
   "cell_type": "code",
   "execution_count": 68,
   "id": "5e50bbea",
   "metadata": {},
   "outputs": [
    {
     "data": {
      "text/plain": [
       "0.6406929455467333"
      ]
     },
     "execution_count": 68,
     "metadata": {},
     "output_type": "execute_result"
    }
   ],
   "source": [
    "model_scoreGNB = model_GNB.score(x_train_res , y_train_res) #training accuracy\n",
    "model_scoreGNB"
   ]
  },
  {
   "cell_type": "code",
   "execution_count": 69,
   "id": "1add5f2f",
   "metadata": {},
   "outputs": [
    {
     "data": {
      "text/plain": [
       "0.4035"
      ]
     },
     "execution_count": 69,
     "metadata": {},
     "output_type": "execute_result"
    }
   ],
   "source": [
    "model_GNB.score(x_test,y_test)                                #Testing accuracy"
   ]
  },
  {
   "cell_type": "code",
   "execution_count": 70,
   "id": "fa07073a",
   "metadata": {},
   "outputs": [
    {
     "name": "stdout",
     "output_type": "stream",
     "text": [
      "              precision    recall  f1-score   support\n",
      "\n",
      "           0       0.94      0.37      0.54     16546\n",
      "           1       0.09      0.74      0.17      1454\n",
      "\n",
      "    accuracy                           0.40     18000\n",
      "   macro avg       0.52      0.56      0.35     18000\n",
      "weighted avg       0.87      0.40      0.51     18000\n",
      "\n"
     ]
    }
   ],
   "source": [
    "print(classification_report(y_test,y_predictGNB))"
   ]
  },
  {
   "cell_type": "code",
   "execution_count": 71,
   "id": "538f4bc5",
   "metadata": {},
   "outputs": [
    {
     "name": "stdout",
     "output_type": "stream",
     "text": [
      "[[ 6186 10360]\n",
      " [  377  1077]]\n"
     ]
    }
   ],
   "source": [
    "confusion_matrixGNB = metrics.confusion_matrix(y_test,y_predictGNB)\n",
    "print(confusion_matrixGNB)"
   ]
  },
  {
   "cell_type": "code",
   "execution_count": 72,
   "id": "7812e737",
   "metadata": {},
   "outputs": [
    {
     "data": {
      "text/plain": [
       "<AxesSubplot:>"
      ]
     },
     "execution_count": 72,
     "metadata": {},
     "output_type": "execute_result"
    },
    {
     "data": {
      "image/png": "[encoded data removed]",
      "text/plain": [
       "<Figure size 432x288 with 1 Axes>"
      ]
     },
     "metadata": {
      "needs_background": "light"
     },
     "output_type": "display_data"
    }
   ],
   "source": [
    "sns.heatmap(confusion_matrixGNB, annot=True, fmt = 'd', cbar = False)"
   ]
  },
  {
   "cell_type": "code",
   "execution_count": null,
   "id": "a5b80d4b",
   "metadata": {},
   "outputs": [],
   "source": []
  },
  {
   "cell_type": "code",
   "execution_count": null,
   "id": "9f58529f",
   "metadata": {},
   "outputs": [],
   "source": []
  },
  {
   "cell_type": "code",
   "execution_count": null,
   "id": "131c2df5",
   "metadata": {},
   "outputs": [],
   "source": []
  }
 ],
 "metadata": {
  "kernelspec": {
   "display_name": "Python 3 (ipykernel)",
   "language": "python",
   "name": "python3"
  },
  "language_info": {
   "codemirror_mode": {
    "name": "ipython",
    "version": 3
   },
   "file_extension": ".py",
   "mimetype": "text/x-python",
   "name": "python",
   "nbconvert_exporter": "python",
   "pygments_lexer": "ipython3",
   "version": "3.9.12"
  }
 },
 "nbformat": 4,
 "nbformat_minor": 5
}
